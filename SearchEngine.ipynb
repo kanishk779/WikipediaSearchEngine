{
 "cells": [
  {
   "cell_type": "code",
   "execution_count": 4,
   "metadata": {},
   "outputs": [],
   "source": [
    "import sys\n",
    "import os\n",
    "import math\n",
    "import Stemmer\n",
    "import time\n",
    "from nltk.corpus import stopwords"
   ]
  },
  {
   "cell_type": "code",
   "execution_count": 8,
   "metadata": {},
   "outputs": [],
   "source": [
    "stop_words=set(stopwords.words('english'))\n",
    "my_stemmer = Stemmer.Stemmer('english')\n",
    "TITLE = 0\n",
    "BODY = 1\n",
    "INFOBOX = 2\n",
    "CATEGORY = 3\n",
    "REFERENCE = 4\n",
    "LINKS = 5\n",
    "TYPES = 6\n",
    "TYPE_LIST = ['t', 'b', 'i', 'c', 'r', 'e']"
   ]
  },
  {
   "cell_type": "code",
   "execution_count": null,
   "metadata": {},
   "outputs": [],
   "source": [
    "'''\n",
    "This finds the term using binary search and returns its posting list\n",
    "'''\n",
    "def find_term(term):\n",
    "    posting = \"\"\n",
    "    return -1, posting"
   ]
  },
  {
   "cell_type": "code",
   "execution_count": 10,
   "metadata": {},
   "outputs": [],
   "source": [
    "'''\n",
    "This returns list of document_ID which contain 'term' in 'field'\n",
    "'''\n",
    "def handle_field_query(term, field):\n",
    "    index, posting = find_term(term)\n",
    "    result = []\n",
    "    if index == -1:\n",
    "        return result\n",
    "    posting = posting.split()\n",
    "    for i in range(TYPES):\n",
    "        if field == i:\n",
    "            for data in posting:\n",
    "                if TYPE_LIST[i] in data:\n",
    "                    docID = ''\n",
    "                    for char in data:\n",
    "                        if char >= 'a' and char <= 'z':\n",
    "                            break\n",
    "                        else:\n",
    "                            docID += char\n",
    "                    result.append(docID)\n",
    "            break\n",
    "    return result"
   ]
  },
  {
   "cell_type": "code",
   "execution_count": 12,
   "metadata": {},
   "outputs": [],
   "source": [
    "'''\n",
    "This returns list of document_ID which contains 'term' anywhere in it\n",
    "'''\n",
    "def handle_simple_query(term):\n",
    "    index, posting = find_term(term)\n",
    "    result = []\n",
    "    if index == -1:\n",
    "        return result\n",
    "    posting = posting.split()\n",
    "    for data in posting:\n",
    "        docID = ''\n",
    "        for char in data:\n",
    "            if char >= 'a' and char <= 'z':\n",
    "                break\n",
    "            else:\n",
    "                docID += char\n",
    "        result.append(docID)\n",
    "    return result"
   ]
  },
  {
   "cell_type": "code",
   "execution_count": null,
   "metadata": {},
   "outputs": [],
   "source": [
    "def main():\n",
    "    field_queries = ['t:', 'b:', 'i:', 'c:', 'r:', 'e:']\n",
    "    field_query = [0]*TYPES\n",
    "    \n",
    "    '''\n",
    "    we assume queries will follow certain rules\n",
    "    1. If a field query is asked than it will be of the form 't:sachin india great i:2019 c:england'\n",
    "    2. Which means this is not allowed 't:sachin t:india c:2019 i:great c:help'\n",
    "    \n",
    "    Maybe we can parse these, YES WE CAN!!\n",
    "    '''\n",
    "    while True:\n",
    "        query = input(\"ASK : \")\n",
    "        start_time = time.time()\n",
    "        query = query.lower().strip()\n",
    "        if query == 'exit':\n",
    "            break\n",
    "        terms = query.split()\n",
    "        query_terms = []\n",
    "        for term in query_terms:\n",
    "            term = term.lower().strip()\n",
    "            if term not in stop_words\n",
    "                term = my_stemmer.stemWord(term)\n",
    "                query_terms.append(term)\n",
    "        if len(query_terms) == 0:\n",
    "            print('This is not a good Query, Ask something meaningful')\n",
    "            continue\n",
    "        \n",
    "        \n",
    "        "
   ]
  }
 ],
 "metadata": {
  "kernelspec": {
   "display_name": "Python 3",
   "language": "python",
   "name": "python3"
  },
  "language_info": {
   "codemirror_mode": {
    "name": "ipython",
    "version": 3
   },
   "file_extension": ".py",
   "mimetype": "text/x-python",
   "name": "python",
   "nbconvert_exporter": "python",
   "pygments_lexer": "ipython3",
   "version": "3.7.5"
  }
 },
 "nbformat": 4,
 "nbformat_minor": 4
}
