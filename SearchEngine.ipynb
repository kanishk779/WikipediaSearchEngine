{
 "cells": [
  {
   "cell_type": "code",
   "execution_count": 1,
   "metadata": {},
   "outputs": [],
   "source": [
    "import sys\n",
    "import os\n",
    "import math\n",
    "import Stemmer\n",
    "import time\n",
    "from nltk.corpus import stopwords"
   ]
  },
  {
   "cell_type": "code",
   "execution_count": 2,
   "metadata": {},
   "outputs": [],
   "source": [
    "stop_words=set(stopwords.words('english'))\n",
    "my_stemmer = Stemmer.Stemmer('english')\n",
    "TITLE = 0\n",
    "BODY = 1\n",
    "INFOBOX = 2\n",
    "CATEGORY = 3\n",
    "REFERENCE = 4\n",
    "LINKS = 5\n",
    "TYPES = 6\n",
    "TYPE_LIST = ['t', 'b', 'i', 'c', 'r', 'e']\n",
    "# We are storing the index in memory for now as it just 144MB , but this will not scale\n",
    "INDEX = {}"
   ]
  },
  {
   "cell_type": "code",
   "execution_count": 3,
   "metadata": {},
   "outputs": [],
   "source": [
    "'''\n",
    "This finds the term using binary search(currently not using it) and returns its posting list\n",
    "'''\n",
    "def find_term(term):\n",
    "    global INDEX\n",
    "    if term in INDEX:\n",
    "        return 1, INDEX[term]\n",
    "    else:\n",
    "        return -1, []"
   ]
  },
  {
   "cell_type": "code",
   "execution_count": 4,
   "metadata": {},
   "outputs": [],
   "source": [
    "'''\n",
    "This returns list of document_ID which contain 'term' in 'field'\n",
    "'''\n",
    "def handle_field_query(term, field):\n",
    "    index, posting = find_term(term)\n",
    "    result = []\n",
    "    if index == -1:\n",
    "        return result\n",
    "    for i in range(TYPES):\n",
    "        if field == i:\n",
    "            for data in posting:\n",
    "                if TYPE_LIST[i] in data:\n",
    "                    docID = ''\n",
    "                    for char in data:\n",
    "                        if char >= 'a' and char <= 'z':\n",
    "                            break\n",
    "                        else:\n",
    "                            docID += char\n",
    "                    result.append(docID)\n",
    "            break\n",
    "    return result"
   ]
  },
  {
   "cell_type": "code",
   "execution_count": 5,
   "metadata": {},
   "outputs": [],
   "source": [
    "'''\n",
    "This returns list of document_ID which contains 'term' anywhere in it\n",
    "'''\n",
    "def handle_simple_query(term):\n",
    "    index, posting = find_term(term)\n",
    "    result = []\n",
    "    if index == -1:\n",
    "        return result\n",
    "    for data in posting:\n",
    "        docID = ''\n",
    "        for char in data:\n",
    "            if char >= 'a' and char <= 'z':\n",
    "                break\n",
    "            else:\n",
    "                docID += char\n",
    "        result.append(docID)\n",
    "    return result"
   ]
  },
  {
   "cell_type": "code",
   "execution_count": 6,
   "metadata": {},
   "outputs": [],
   "source": [
    "'''\n",
    "This reads the index into memory, this is fine for Phase-1\n",
    "'''\n",
    "def read_index_into_memory():\n",
    "    global INDEX\n",
    "    with open('./data/index0.txt', 'r') as file:\n",
    "        lines = file.readlines()\n",
    "        for line in lines:\n",
    "            line = line.split()\n",
    "            INDEX[line[0]] = line[1 : ]"
   ]
  },
  {
   "cell_type": "code",
   "execution_count": 7,
   "metadata": {},
   "outputs": [],
   "source": [
    "def main():\n",
    "    field_queries = ['t:', 'b:', 'i:', 'c:', 'r:', 'e:']\n",
    "    \n",
    "    '''\n",
    "    we assume queries will follow certain rules\n",
    "    1. If a field query is asked than it will be of the form 't:sachin india great i:2019 c:england'\n",
    "    2. Which means this is not allowed 't:sachin t:india c:2019 i:great c:help'\n",
    "    \n",
    "    Maybe we can parse these, YES WE CAN!!\n",
    "    '''\n",
    "    \n",
    "    read_index_into_memory()\n",
    "    \n",
    "    while True:\n",
    "        query = input(\"ASK : \")\n",
    "        start_time = time.time()\n",
    "        query = query.lower().strip()\n",
    "        if query == 'exit':\n",
    "            break\n",
    "        terms = query.split()\n",
    "        query_terms = []\n",
    "        for term in terms:\n",
    "            term = term.lower().strip()\n",
    "            if term not in stop_words:\n",
    "                term = my_stemmer.stemWord(term)\n",
    "                query_terms.append(term)\n",
    "        if len(query_terms) == 0:\n",
    "            print('This is not a good Query, Ask something meaningful')\n",
    "            continue\n",
    "        query_type = -1\n",
    "        result = []\n",
    "        for term in query_terms:\n",
    "            start = False\n",
    "            for i in range(TYPES):\n",
    "                if term[0:2] == field_queries[i]:\n",
    "                    query_type = i\n",
    "                    start = True\n",
    "                    break\n",
    "            docIDs = []\n",
    "            if query_type == -1:\n",
    "                if start:\n",
    "                    docIDs = handle_simple_query(term[2:])\n",
    "                else:\n",
    "                    docIDs = handle_simple_query(term)\n",
    "            else:\n",
    "                if start:\n",
    "                    docIDs = handle_field_query(term[2:], query_type)\n",
    "                else:\n",
    "                    docIDs = handle_field_query(term, query_type)\n",
    "            \n",
    "            result += docIDs\n",
    "        \n",
    "        # WE are ouputting all the files which are related to any of the term in the query, But we should actually use the merge algo to AND the lists\n",
    "        if len(result) == 0:\n",
    "            print('Could not find anything related to your query')\n",
    "        else:\n",
    "            print('These docs contain your answer')\n",
    "            print(result)\n",
    "            \n",
    "        print('\\nTime: ', time.time()-start_time)\n",
    "        print(\"\\n\")\n",
    "        \n",
    "        \n",
    "        "
   ]
  },
  {
   "cell_type": "code",
   "execution_count": 8,
   "metadata": {},
   "outputs": [
    {
     "ename": "FileNotFoundError",
     "evalue": "[Errno 2] No such file or directory: './data/index0.txt'",
     "output_type": "error",
     "traceback": [
      "\u001b[0;31m---------------------------------------------------------------------------\u001b[0m",
      "\u001b[0;31mFileNotFoundError\u001b[0m                         Traceback (most recent call last)",
      "\u001b[0;32m<ipython-input-8-c7bc734e5e35>\u001b[0m in \u001b[0;36m<module>\u001b[0;34m\u001b[0m\n\u001b[1;32m      1\u001b[0m \u001b[0;32mif\u001b[0m \u001b[0m__name__\u001b[0m \u001b[0;34m==\u001b[0m \u001b[0;34m'__main__'\u001b[0m\u001b[0;34m:\u001b[0m\u001b[0;34m\u001b[0m\u001b[0;34m\u001b[0m\u001b[0m\n\u001b[0;32m----> 2\u001b[0;31m     \u001b[0mmain\u001b[0m\u001b[0;34m(\u001b[0m\u001b[0;34m)\u001b[0m\u001b[0;34m\u001b[0m\u001b[0;34m\u001b[0m\u001b[0m\n\u001b[0m",
      "\u001b[0;32m<ipython-input-7-f2099a9ebfb1>\u001b[0m in \u001b[0;36mmain\u001b[0;34m()\u001b[0m\n\u001b[1;32m     10\u001b[0m     '''\n\u001b[1;32m     11\u001b[0m \u001b[0;34m\u001b[0m\u001b[0m\n\u001b[0;32m---> 12\u001b[0;31m     \u001b[0mread_index_into_memory\u001b[0m\u001b[0;34m(\u001b[0m\u001b[0;34m)\u001b[0m\u001b[0;34m\u001b[0m\u001b[0;34m\u001b[0m\u001b[0m\n\u001b[0m\u001b[1;32m     13\u001b[0m \u001b[0;34m\u001b[0m\u001b[0m\n\u001b[1;32m     14\u001b[0m     \u001b[0;32mwhile\u001b[0m \u001b[0;32mTrue\u001b[0m\u001b[0;34m:\u001b[0m\u001b[0;34m\u001b[0m\u001b[0;34m\u001b[0m\u001b[0m\n",
      "\u001b[0;32m<ipython-input-6-4258b4b1588a>\u001b[0m in \u001b[0;36mread_index_into_memory\u001b[0;34m()\u001b[0m\n\u001b[1;32m      4\u001b[0m \u001b[0;32mdef\u001b[0m \u001b[0mread_index_into_memory\u001b[0m\u001b[0;34m(\u001b[0m\u001b[0;34m)\u001b[0m\u001b[0;34m:\u001b[0m\u001b[0;34m\u001b[0m\u001b[0;34m\u001b[0m\u001b[0m\n\u001b[1;32m      5\u001b[0m     \u001b[0;32mglobal\u001b[0m \u001b[0mINDEX\u001b[0m\u001b[0;34m\u001b[0m\u001b[0;34m\u001b[0m\u001b[0m\n\u001b[0;32m----> 6\u001b[0;31m     \u001b[0;32mwith\u001b[0m \u001b[0mopen\u001b[0m\u001b[0;34m(\u001b[0m\u001b[0;34m'./data/index0.txt'\u001b[0m\u001b[0;34m,\u001b[0m \u001b[0;34m'r'\u001b[0m\u001b[0;34m)\u001b[0m \u001b[0;32mas\u001b[0m \u001b[0mfile\u001b[0m\u001b[0;34m:\u001b[0m\u001b[0;34m\u001b[0m\u001b[0;34m\u001b[0m\u001b[0m\n\u001b[0m\u001b[1;32m      7\u001b[0m         \u001b[0mlines\u001b[0m \u001b[0;34m=\u001b[0m \u001b[0mfile\u001b[0m\u001b[0;34m.\u001b[0m\u001b[0mreadlines\u001b[0m\u001b[0;34m(\u001b[0m\u001b[0;34m)\u001b[0m\u001b[0;34m\u001b[0m\u001b[0;34m\u001b[0m\u001b[0m\n\u001b[1;32m      8\u001b[0m         \u001b[0;32mfor\u001b[0m \u001b[0mline\u001b[0m \u001b[0;32min\u001b[0m \u001b[0mlines\u001b[0m\u001b[0;34m:\u001b[0m\u001b[0;34m\u001b[0m\u001b[0;34m\u001b[0m\u001b[0m\n",
      "\u001b[0;31mFileNotFoundError\u001b[0m: [Errno 2] No such file or directory: './data/index0.txt'"
     ]
    }
   ],
   "source": [
    "if __name__ == '__main__':\n",
    "    main()"
   ]
  }
 ],
 "metadata": {
  "kernelspec": {
   "display_name": "Python 3",
   "language": "python",
   "name": "python3"
  },
  "language_info": {
   "codemirror_mode": {
    "name": "ipython",
    "version": 3
   },
   "file_extension": ".py",
   "mimetype": "text/x-python",
   "name": "python",
   "nbconvert_exporter": "python",
   "pygments_lexer": "ipython3",
   "version": "3.7.5"
  }
 },
 "nbformat": 4,
 "nbformat_minor": 4
}
