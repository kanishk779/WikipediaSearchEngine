{
 "cells": [
  {
   "cell_type": "code",
   "execution_count": 1,
   "metadata": {},
   "outputs": [],
   "source": [
    "import xml.sax\n",
    "import re\n",
    "from collections import defaultdict\n",
    "from nltk.corpus import stopwords\n",
    "import Stemmer\n",
    "import time"
   ]
  },
  {
   "cell_type": "code",
   "execution_count": 2,
   "metadata": {},
   "outputs": [],
   "source": [
    "count_of_pages = 0\n",
    "Identities = {}\n",
    "start_time = time.time()\n",
    "stop_words=set(stopwords.words('english'))\n",
    "ss = Stemmer.Stemmer('english') "
   ]
  },
  {
   "cell_type": "code",
   "execution_count": 3,
   "metadata": {},
   "outputs": [],
   "source": [
    "def get_infobar(data):\n",
    "    data=data.split('\\n')\n",
    "    length=len(data)\n",
    "    ret=[]\n",
    "    flag=0\n",
    "    for i in range(length):\n",
    "        if flag%2==0 and re.search(r'\\{\\{infobox',data[i]):\n",
    "            flag=1\n",
    "            ret.append(re.sub(r'\\{\\{infobox','',data[i]))\n",
    "        elif flag%2==1:\n",
    "            if data[i]=='}}':\n",
    "                flag=flag+1\n",
    "                continue\n",
    "            ret.append(data[i])\n",
    "        elif flag==0:\n",
    "            if i*100/length > 50:\n",
    "                break\n",
    "\n",
    "    return final_processing(' '.join(ret))\n",
    "\n",
    "def get_categories(data):\n",
    "    data=re.findall(r'\\[\\[category:.*\\]\\]',data)\n",
    "    ret=[]\n",
    "    for i in data:\n",
    "        ret.append(i[11:len(i)-2])\n",
    "\n",
    "    return final_processing(' '.join(ret))\n",
    "\n",
    "def get_external_links(text):\n",
    "    data=text.split('==External links==')\n",
    "    if len(data)==1:\n",
    "        return []\n",
    "    \n",
    "    data=data[1]\n",
    "    data=re.findall(r'\\*\\s*\\[.*\\]',data)\n",
    "    ret=[]\n",
    "    for i in data:\n",
    "        ret.append(i[2:len(i)-1])\n",
    "    return final_processing(' '.join(ret))\n",
    "\n",
    "def get_references(text):\n",
    "    ret=[]\n",
    "    data1=re.findall(r'\\|\\s*title[^\\|]*',text)\n",
    "    for i in data1:\n",
    "        ret.append(i[i.find('=')+1:len(i)-1])\n",
    "    return final_processing(' '.join(ret))"
   ]
  },
  {
   "cell_type": "code",
   "execution_count": 4,
   "metadata": {},
   "outputs": [],
   "source": [
    "def final_processing(data):\n",
    "    data=data.strip().encode(\"ascii\",errors=\"ignore\").decode()\n",
    "    data=re.sub(r'\\`|\\~|\\!|\\@|\\#|\\\"|\\'|\\$|\\%|\\^|\\&|\\*|\\(|\\)|\\-|\\_|\\=|\\+|\\\\|\\||\\]|\\[|\\}|\\{|\\;|\\:|\\/|\\?|\\.|\\>|\\,|\\<|\\'|\\n|\\||\\|\\/\"',r' ',data)\n",
    "    data=re.sub(r'&nbsp;|&lt;|&gt;|&amp;|&quot;|&apos;|&cent;|&pound;|&yen;|&euro;|&copy;|&reg;',r' ',data)\n",
    "    \n",
    "    final_data=[]\n",
    "    \n",
    "    data=data.split()\n",
    "    for w in data:\n",
    "        if not w.strip() in stop_words:\n",
    "            w=ss.stemWord(w.lower())\n",
    "            final_data.append(w)\n",
    "    return final_data"
   ]
  },
  {
   "cell_type": "code",
   "execution_count": 5,
   "metadata": {},
   "outputs": [],
   "source": [
    "def process_text(text,title):\n",
    "    text=text.lower()\n",
    "    references=[]\n",
    "    categories=[]\n",
    "    external_links=[]\n",
    "    data=text.split('==References==')\n",
    "    if data[0]==text:\n",
    "        categories=get_categories(data[0])\n",
    "        external_links=get_external_links(data[0])\n",
    "    else:\n",
    "        categories=get_categories(data[1])\n",
    "        external_links=get_external_links(data[1])\n",
    "        references=get_references(data[1])\n",
    "\n",
    "    info_bar=get_infobar(data[0])\n",
    "    data[0]=re.sub(r'\\{\\{.*\\}\\}',r' ',data[0])\n",
    "    body=final_processing(data[0])\n",
    "    title=final_processing(title.lower())\n",
    "    return title,body,info_bar,categories,external_links,references"
   ]
  },
  {
   "cell_type": "code",
   "execution_count": 6,
   "metadata": {},
   "outputs": [],
   "source": [
    "class MyParser(xml.sax.ContentHandler):\n",
    "    def __init__(self):\n",
    "        self.title = \"\"\n",
    "        self.tag = \"\"\n",
    "        self.id = \"\"\n",
    "        self.text = \"\"\n",
    "        self.idFlag = 0 \n",
    "    def characters(self, content):\n",
    "        if self.tag == 'text':\n",
    "            self.text+=content\n",
    "        if self.tag == 'title':\n",
    "            self.title+=content\n",
    "        if self.tag == 'id' and self.idFlag==0:\n",
    "            self.id = content\n",
    "            self.idFlag=1\n",
    "    def startElement(self,name,attrs):\n",
    "        self.tag=name\n",
    "\n",
    "    def endElement(self,name):\n",
    "        global count_of_pages\n",
    "        if name=='page':\n",
    "            self.title=self.title.strip().encode(\"ascii\",errors=\"ignore\").decode()\n",
    "            Identities[count_of_pages]=self.title\n",
    "            title,body,infobox,categories,external_links,references=process_text(self.text,self.title)\n",
    "            count_of_pages += 1\n",
    "            self.tag=\"\"\n",
    "            self.title=\"\"\n",
    "            self.text=\"\"\n",
    "            self.id=\"\"\n",
    "            self.idFlag=0"
   ]
  },
  {
   "cell_type": "code",
   "execution_count": 7,
   "metadata": {},
   "outputs": [],
   "source": [
    "def main():\n",
    "    global count_of_pages\n",
    "    global Identities\n",
    "    parser = xml.sax.make_parser()\n",
    "    parser.setFeature(xml.sax.handler.feature_namespaces, False)\n",
    "    handler = MyParser()\n",
    "    parser.setContentHandler(handler)\n",
    "    output = parser.parse('../example.xml')\n",
    "    print(count_of_pages)"
   ]
  },
  {
   "cell_type": "code",
   "execution_count": 8,
   "metadata": {},
   "outputs": [
    {
     "name": "stdout",
     "output_type": "stream",
     "text": [
      "2599\n"
     ]
    }
   ],
   "source": [
    "main()"
   ]
  },
  {
   "cell_type": "code",
   "execution_count": null,
   "metadata": {},
   "outputs": [],
   "source": []
  }
 ],
 "metadata": {
  "kernelspec": {
   "display_name": "Python 3",
   "language": "python",
   "name": "python3"
  },
  "language_info": {
   "codemirror_mode": {
    "name": "ipython",
    "version": 3
   },
   "file_extension": ".py",
   "mimetype": "text/x-python",
   "name": "python",
   "nbconvert_exporter": "python",
   "pygments_lexer": "ipython3",
   "version": "3.7.5"
  }
 },
 "nbformat": 4,
 "nbformat_minor": 4
}
