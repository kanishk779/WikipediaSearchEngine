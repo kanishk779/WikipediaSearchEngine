{
 "cells": [
  {
   "cell_type": "code",
   "execution_count": 33,
   "metadata": {},
   "outputs": [],
   "source": [
    "import xml.sax\n",
    "import re\n",
    "from collections import defaultdict\n",
    "from nltk.corpus import stopwords\n",
    "from nltk.stem import SnowballStemmer"
   ]
  },
  {
   "cell_type": "code",
   "execution_count": 42,
   "metadata": {},
   "outputs": [
    {
     "name": "stderr",
     "output_type": "stream",
     "text": [
      "[nltk_data] Downloading package stopwords to\n",
      "[nltk_data]     /Users/amankumarkashyap/nltk_data...\n",
      "[nltk_data]   Unzipping corpora/stopwords.zip.\n"
     ]
    },
    {
     "data": {
      "text/plain": [
       "True"
      ]
     },
     "execution_count": 42,
     "metadata": {},
     "output_type": "execute_result"
    }
   ],
   "source": [
    "import nltk\n",
    "nltk.download('stopwords')"
   ]
  },
  {
   "cell_type": "code",
   "execution_count": 43,
   "metadata": {},
   "outputs": [],
   "source": [
    "count_of_pages = 0\n",
    "Identities = {}\n",
    "stop_words=set(stopwords.words('english'))"
   ]
  },
  {
   "cell_type": "code",
   "execution_count": 44,
   "metadata": {},
   "outputs": [],
   "source": [
    "def get_infobar(data):\n",
    "    data=data.split('\\n')\n",
    "    length=len(data)\n",
    "    ret=[]\n",
    "    flag=0\n",
    "    for i in range(length):\n",
    "        if flag%2==0 and re.search(r'\\{\\{infobox',data[i]):\n",
    "            flag=1\n",
    "            ret.append(re.sub(r'\\{\\{infobox','',data[i]))\n",
    "        elif flag%2==1:\n",
    "            if data[i]=='}}':\n",
    "                flag=flag+1\n",
    "                continue\n",
    "            ret.append(data[i])\n",
    "        elif flag==0:\n",
    "            if i*100/length > 50:\n",
    "                break\n",
    "\n",
    "    return final_processing(' '.join(ret))\n",
    "\n",
    "def get_categories(data):\n",
    "    data=re.findall(r'\\[\\[category:.*\\]\\]',data)\n",
    "    ret=[]\n",
    "    for i in data:\n",
    "        ret.append(i[11:len(i)-2])\n",
    "\n",
    "    return final_processing(' '.join(ret))\n",
    "\n",
    "def get_external_links(text):\n",
    "    data=text.split('==external links==')\n",
    "    if len(data)==1:\n",
    "        data=text.split('==external links ==')\n",
    "    if len(data)==1:\n",
    "        data=text.split('== external links==')\n",
    "    if len(data)==1:\n",
    "        data=text.split('== external links ==')\n",
    "    if len(data)==1:\n",
    "        return []\n",
    "    data=data[1]\n",
    "    data=re.findall(r'\\*\\s*\\[.*\\]',data)\n",
    "    ret=[]\n",
    "    for i in data:\n",
    "        ret.append(i[2:len(i)-1])\n",
    "    return final_processing(' '.join(ret))\n",
    "\n",
    "def get_references(text):\n",
    "    ret=[]\n",
    "    data1=re.findall(r'\\|\\s*title[^\\|]*',text)\n",
    "    for i in data1:\n",
    "        ret.append(i[i.find('=')+1:len(i)-1])\n",
    "    return final_processing(' '.join(ret))"
   ]
  },
  {
   "cell_type": "code",
   "execution_count": 45,
   "metadata": {},
   "outputs": [],
   "source": [
    "def final_processing(data):\n",
    "    data=data.strip().encode(\"ascii\",errors=\"ignore\").decode()\n",
    "    #data=re.sub('http[s]?://(?:[a-zA-Z]|[0-9]|[$-_@.&+]|[!*\\(\\), ]|(?:%[0-9a-fA-F][0-9a-fA-F]))+',' ',data)\n",
    "    data=re.sub(r'\\`|\\~|\\!|\\@|\\#|\\\"|\\'|\\$|\\%|\\^|\\&|\\*|\\(|\\)|\\-|\\_|\\=|\\+|\\\\|\\||\\]|\\[|\\}|\\{|\\;|\\:|\\/|\\?|\\.|\\>|\\,|\\<|\\'|\\n|\\||\\|\\/\"',r' ',data)\n",
    "    data=re.sub(r'&nbsp;|&lt;|&gt;|&amp;|&quot;|&apos;|&cent;|&pound;|&yen;|&euro;|&copy;|&reg;',r' ',data)\n",
    "    #Above code removes any special character\n",
    "    final_data=[]\n",
    "    ss=SnowballStemmer('english')\n",
    "    data=data.split()\n",
    "    for w in data:\n",
    "        if not w.strip() in stop_words:\n",
    "            w=ss.stem(w)\n",
    "            final_data.append(w)\n",
    "    return final_data"
   ]
  },
  {
   "cell_type": "code",
   "execution_count": 46,
   "metadata": {},
   "outputs": [],
   "source": [
    "def process_text(text,title):\n",
    "    text=text.lower()\n",
    "    references=[]\n",
    "    categories=[]\n",
    "    external_links=[]\n",
    "    data=text.split('==references==')\n",
    "    if data[0]==text:\n",
    "        data=text.split('==references ==')\n",
    "    if data[0]==text:\n",
    "        data=text.split('== references==')\n",
    "    if data[0]==text:\n",
    "        data=text.split('== references ==')\n",
    "    if data[0]==text:\n",
    "        categories=get_categories(data[0])\n",
    "        external_links=get_external_links(data[0])\n",
    "    else:\n",
    "        categories=get_categories(data[1])\n",
    "        external_links=get_external_links(data[1])\n",
    "        references=get_references(data[1])\t\n",
    "\n",
    "    info_bar=get_infobar(data[0])\n",
    "    data[0]=re.sub(r'\\{\\{.*\\}\\}',r' ',data[0])\n",
    "    body=final_processing(data[0])\n",
    "    title=final_processing(title.lower())\n",
    "    return title,body,info_bar,categories,external_links,references"
   ]
  },
  {
   "cell_type": "code",
   "execution_count": 47,
   "metadata": {},
   "outputs": [],
   "source": [
    "class MyParser(xml.sax.ContentHandler):\n",
    "    def __init__(self):\n",
    "        self.title = \"\"\n",
    "        self.tag = \"\"\n",
    "        self.id = \"\"\n",
    "        self.text = \"\"\n",
    "        self.idFlag = 0 \n",
    "    def characters(self, content):\n",
    "        if self.tag == 'text':\n",
    "            self.text+=content\n",
    "        if self.tag == 'title':\n",
    "            self.title+=content\n",
    "        if self.tag == 'id' and self.idFlag==0:\n",
    "            self.id = content\n",
    "            self.idFlag=1\n",
    "    def startElement(self,name,attrs):\n",
    "        self.tag=name\n",
    "\n",
    "    def endElement(self,name):\n",
    "        global count_of_pages\n",
    "        if name=='page':\n",
    "            self.title=self.title.strip().encode(\"ascii\",errors=\"ignore\").decode()\n",
    "            Identities[count_of_pages]=self.title\n",
    "            title,body,infobox,categories,external_links,references=process_text(self.text,self.title)\n",
    "            print(title)\n",
    "            print(body)\n",
    "            print(categories)\n",
    "            print(external_links)\n",
    "            print(references)\n",
    "            self.tag=\"\"\n",
    "            self.title=\"\"\n",
    "            self.text=\"\"\n",
    "            self.id=\"\"\n",
    "            self.idFlag=0"
   ]
  },
  {
   "cell_type": "code",
   "execution_count": 48,
   "metadata": {},
   "outputs": [],
   "source": [
    "def main():\n",
    "    global count_of_pages\n",
    "    global Identities\n",
    "    parser = xml.sax.make_parser()\n",
    "    parser.setFeature(xml.sax.handler.feature_namespaces, False)\n",
    "    handler = MyParser()\n",
    "    parser.setContentHandler(handler)\n",
    "    output = parser.parse('./dummy.xml')\n",
    "    print(count_of_pages)"
   ]
  },
  {
   "cell_type": "code",
   "execution_count": 49,
   "metadata": {},
   "outputs": [
    {
     "name": "stdout",
     "output_type": "stream",
     "text": [
      "['accessiblecomput']\n",
      "['redirect', 'comput', 'access']\n",
      "[]\n",
      "[]\n",
      "[]\n",
      "['anarch']\n",
      "['anarch', 'polit', 'philosophi', 'polit', 'movement', 'movement', 'reject', 'involuntari', 'coerciv', 'form', 'hierarchi', 'call', 'abolit', 'state', 'politi', 'state', 'hold', 'undesir', 'unnecessari', 'harm', 'histori', 'anarch', 'goe', 'back', 'prehistori', 'human', 'live', 'anarchist', 'societi', 'long', 'establish', 'formal', 'state', 'realm', 'empir', 'rise', 'organis', 'hierarch', 'bodi', 'skeptic', 'toward', 'author', 'also', 'rose', '19th', 'centuri', 'self', 'conscious', 'polit', 'movement', 'emerg', 'latter', 'half', '19th', 'first', 'decad', '20th', 'centuri', 'anarchist', 'movement', 'flourish', 'part', 'world', 'signific', 'role', 'worker', 'struggl', 'emancip', 'various', 'anarchist', 'school', 'thought', 'form', 'period', 'anarchist', 'taken', 'part', 'sever', 'revolut', 'notabl', 'spanish', 'civil', 'war', 'whose', 'end', 'mark', 'end', 'classic', 'era', 'anarch', 'anarch', 'classic', 'era', 'last', 'decad', '20th', 'centuri', '21st', 'centuri', 'anarchist', 'movement', 'resurg', 'anarch', 'employ', 'various', 'tactic', 'order', 'meet', 'ideal', 'end', 'broad', 'separ', 'revolutionari', 'evolutionari', 'tactic', 'signific', 'overlap', 'two', 'mere', 'descript', 'revolutionari', 'tactic', 'aim', 'bring', 'author', 'state', 'taken', 'violent', 'turn', 'past', 'evolutionari', 'tactic', 'aim', 'prefigur', 'anarchist', 'societi', 'would', 'like', 'anarchist', 'thought', 'critic', 'praxi', 'process', 'praxi', 'play', 'part', 'divers', 'area', 'human', 'societi', 'critic', 'anarch', 'main', 'focus', 'claim', 'intern', 'inconsist', 'violent', 'utopian', 'etymolog', 'terminolog', 'definit', 'etymolog', 'origin', 'anarch', 'ancient', 'greek', 'anarkhia', 'mean', 'without', 'ruler', 'compos', 'prefix', 'e', 'without', 'word', 'arkho', 'e', 'leader', 'ruler', 'suffix', 'ism', 'denot', 'ideolog', 'current', 'favour', 'anarchi', 'first', 'polit', 'philosoph', 'call', 'anarchist', 'opposit', 'state', 'central', 'anarchist', 'thought', 'defin', 'anarch', 'easi', 'task', 'lot', 'discuss', 'among', 'scholar', 'anarchist', 'matter', 'various', 'current', 'perceiv', 'anarch', 'slight', 'differ', 'non', 'coerciv', 'societi', 'reject', 'state', 'apparatus', 'belief', 'human', 'natur', 'allow', 'human', 'exist', 'progress', 'toward', 'non', 'coerciv', 'societi', 'suggest', 'act', 'pursu', 'ideal', 'anarchi', 'histori', 'key', 'issu', 'interest', 'restrict', 'articl', 'length', 'pleas', 'limit', 'section', 'two', 'three', 'short', 'paragraph', 'add', 'substanti', 'inform', 'main', 'issu', 'anarch', 'articl', 'thank', 'anarch', 'philosophi', 'embodi', 'mani', 'divers', 'attitud', 'tendenc', 'school', 'thought', 'disagr', 'question', 'valu', 'ideolog', 'tactic', 'common', 'divers', 'led', 'wide', 'differ', 'use', 'ident', 'term', 'among', 'differ', 'anarchist', 'tradit', 'creat', 'number', 'definit', 'concern', 'anarchist', 'theori', 'instanc', 'compat', 'anarch', 'capit', 'capit', 'gender', 'sexual', 'free', 'love', 'file', 'emilearmand01', 'jpg', 'left', 'thumb', 'upright', 'individualist', 'anarch', 'franc', 'french', 'individualist', 'anarchist', 'mile', 'armand', 'propound', 'virtu', 'free', 'love', 'anarch', 'franc', 'parisian', 'anarchist', 'milieu', 'earli', '20th', 'centuri', 'gender', 'sexual', 'carri', 'along', 'dynam', 'hierarchi', 'anarch', 'oblig', 'address', 'analys', 'oppos', 'suppress', 'one', 'autonomi', 'dynam', 'gender', 'role', 'tradit', 'impos', 'histor', 'current', 'aros', 'flourish', '1890', '1920', 'within', 'anarch', 'free', 'love', 'contemporari', 'anarch', 'current', 'surviv', 'tendenc', 'support', 'polyamori', 'queer', 'anarch', 'second', 'half', '20th', 'centuri', 'anarch', 'intermingl', 'second', 'wave', 'femin', 'second', 'wave', 'femin', 'radic', 'current', 'feminist', 'movement', 'influenc', 'well', 'latest', 'decad', '20th', 'centuri', 'anarchist', 'feminist', 'advoc', 'right', 'autonomi', 'women', 'gay', 'queer', 'margin', 'group', 'feminist', 'thinker', 'suggest', 'fusion', 'two', 'current', 'anarch', 'educ', 'class', 'wikit', 'style', 'border', 'none', 'background', 'none', 'float', 'right', 'anarchist', 'vs', 'statist', 'perspect', 'educ', 'br', 'small', 'ruth', 'kinna', '2019', 'small', 'scope', 'col', 'scope', 'col', 'anarchist', 'educ', 'scope', 'col', 'state', 'educ', 'concept', 'educ', 'self', 'masteri', 'educ', 'servic', 'manag', 'communiti', 'base', 'state', 'run', 'method', 'practic', 'base', 'learn', 'vocat', 'train', 'aim', 'critic', 'member', 'societi', 'product', 'member', 'societi', 'interest', 'anarchist', 'educ', 'stretch', 'back', 'first', 'emerg', 'classic', 'anarch', 'anarchist', 'consid', 'proper', 'educ', 'set', 'foundat', 'futur', 'autonomi', 'individu', 'societi', 'act', 'mutual', 'aid', 'organ', 'theori', 'mutual', 'aid', '1901', 'catalan', 'anarchist', 'free', 'thinker', 'francisco', 'ferrer', 'establish', 'ferrer', 'movement', 'escuela', 'moderna', 'barcelona', 'opposit', 'establish', 'educ', 'system', 'dictat', 'larg', 'cathol', 'church', 'anarchist', 'educ', 'base', 'larg', 'idea', 'child', 'right', 'develop', 'freeli', 'without', 'manipul', 'ought', 'respect', 'ration', 'lead', 'children', 'moral', 'good', 'conclus', 'howev', 'littl', 'consensus', 'among', 'anarchist', 'figur', 'constitut', 'manipul', 'ferrer', 'exampl', 'believ', 'moral', 'indoctrin', 'necessari', 'explicit', 'taught', 'pupil', 'equal', 'liberti', 'social', 'justic', 'possibl', 'capit', 'along', 'critiqu', 'nation', 'govern', 'late', '20th', 'centuri', 'contemporari', 'anarchist', 'writer', 'colin', 'ward', 'herbert', 'read', 'paul', 'goodman', 'intensifi', 'expand', 'anarchist', 'critiqu', 'state', 'educ', 'larg', 'focus', 'need', 'system', 'focus', 'children', 'creativ', 'rather', 'abil', 'attain', 'career', 'particip', 'consumer', 'consum', 'societi', 'anarchist', 'educ', 'institut', 'surviv', 'modern', 'day', 'major', 'tenet', 'anarchist', 'school', 'respect', 'child', 'autonomi', 'reli', 'reason', 'rather', 'indoctrin', 'teach', 'method', 'spread', 'among', 'mainstream', 'educ', 'institut', 'critic', 'common', 'critiqu', 'anarch', 'human', 'self', 'govern', 'state', 'necessari', 'human', 'surviv', 'philosophi', 'lectur', 'andrew', 'g', 'fiala', 'also', 'believ', 'human', 'could', 'self', 'govern', 'includ', 'list', 'argument', 'anarch', 'fiala', 'critiqu', 'anarch', 'innat', 'relat', 'violenc', 'destruct', 'pragmat', 'world', 'e', 'protest', 'world', 'ethic', 'well', 'second', 'anarch', 'evalu', 'unfeas', 'utopian', 'sinc', 'state', 'defeat', 'practic', 'line', 'argument', 'often', 'call', 'polit', 'action', 'within', 'system', 'reform', 'third', 'argument', 'anarch', 'self', 'contradictori', 'sinc', 'advoc', 'one', 'archiei', 'accept', 'mani', 'anarch', 'turn', 'rule', 'polit', 'theori', 'line', 'critic', 'also', 'come', 'self', 'contradict', 'anarchist', 'call', 'collect', 'action', 'anarch', 'endors', 'autonomi', 'individu', 'henc', 'collect', 'action', 'taken', 'last', 'fiala', 'mention', 'critiqu', 'toward', 'philosoph', 'anarch', 'ineffect', 'talk', 'thought', 'meantim', 'capit', 'bourgeoi', 'class', 'remain', 'strong', 'philosoph', 'anarch', 'met', 'critic', 'member', 'academia', 'follow', 'releas', 'pro', 'anarchist', 'book', 'john', 'simmon', 'moral', 'principl', 'polit', 'oblig', '1979', 'academ', 'john', 'molyneux', 'academ', 'john', 'molyneux', 'note', 'book', 'anarch', 'marxist', 'critic', 'anarch', 'cannot', 'win', 'believ', 'lack', 'abil', 'proper', 'implement', 'idea', 'see', 'also', 'categori', 'anarch', 'countri', 'anarch', 'countri', 'govern', 'without', 'govern', 'list', 'polit', 'ideolog', 'anarch', 'list', 'anarchist', 'polit', 'ideolog', 'list', 'book', 'anarch']\n",
      "['anarch', 'anti', 'capit', 'anti', 'fascism', 'social', 'theori']\n",
      "['http', 'dwardmac', 'pitzer', 'edu', 'anarchi', 'archiv', 'anarchi', 'archiv']\n",
      "['statism', 'anarch', 'statism', 'anarch', 'palgrav', 'handbook', 'anarchi', 'oxford', 'english', 'dictionari', 'defens', 'anarchi', 'defens', 'anarch', 'argument', 'philosoph', 'anarch', 'extern', 'link', 'sister', 'project', 'link']\n",
      "['afghanistanhistori']\n",
      "['redirect', 'histori', 'afghanistan', 'redirect', 'categori', 'shell', '1']\n",
      "[]\n",
      "[]\n",
      "[]\n",
      "0\n"
     ]
    }
   ],
   "source": [
    "main()"
   ]
  },
  {
   "cell_type": "code",
   "execution_count": null,
   "metadata": {},
   "outputs": [],
   "source": []
  }
 ],
 "metadata": {
  "kernelspec": {
   "display_name": "Python 3",
   "language": "python",
   "name": "python3"
  },
  "language_info": {
   "codemirror_mode": {
    "name": "ipython",
    "version": 3
   },
   "file_extension": ".py",
   "mimetype": "text/x-python",
   "name": "python",
   "nbconvert_exporter": "python",
   "pygments_lexer": "ipython3",
   "version": "3.7.5"
  }
 },
 "nbformat": 4,
 "nbformat_minor": 4
}
